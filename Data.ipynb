{
 "cells": [
  {
   "cell_type": "markdown",
   "id": "1e7274b4-0877-4aba-84df-31df8a6988e3",
   "metadata": {},
   "source": [
    "## Example: Loading the daily share price data\n",
    "Load `Open-High-Low-Close (OHLC)` dataset. We gathered a daily open-high-low-close `dataset` for each firm in the [S&P500](https://en.wikipedia.org/wiki/S%26P_500) since `01-03-2018`. In addition, we also downloaded data for several [Exchange traded funds (ETFs)](https://en.wikipedia.org/wiki/Exchange-traded_fund). The objective of this notebook is to load the data and explore its features."
   ]
  },
  {
   "cell_type": "markdown",
   "id": "7093e859-903a-4966-89ab-acfeb5a8fee8",
   "metadata": {},
   "source": [
    "### Setup\n",
    "Let's load some packages that are required for the example by calling the `include(...)` function on our initialization file `Include.jl`:"
   ]
  },
  {
   "cell_type": "code",
   "execution_count": 1,
   "id": "0b5fd0b1-56f9-440a-8417-d9bd31b54be2",
   "metadata": {
    "tags": []
   },
   "outputs": [
    {
     "name": "stderr",
     "output_type": "stream",
     "text": [
      "\u001b[32m\u001b[1m  Activating\u001b[22m\u001b[39m project at `~/Desktop/julia_work/Covariance-Model-Study`\n",
      "\u001b[32m\u001b[1m  No Changes\u001b[22m\u001b[39m to `~/Desktop/julia_work/Covariance-Model-Study/Project.toml`\n",
      "\u001b[32m\u001b[1m  No Changes\u001b[22m\u001b[39m to `~/Desktop/julia_work/Covariance-Model-Study/Manifest.toml`\n",
      "\u001b[32m\u001b[1m    Updating\u001b[22m\u001b[39m registry at `~/.julia/registries/General.toml`\n",
      "\u001b[32m\u001b[1m  No Changes\u001b[22m\u001b[39m to `~/Desktop/julia_work/Covariance-Model-Study/Project.toml`\n",
      "\u001b[32m\u001b[1m  No Changes\u001b[22m\u001b[39m to `~/Desktop/julia_work/Covariance-Model-Study/Manifest.toml`\n"
     ]
    }
   ],
   "source": [
    "include(\"Include.jl\")"
   ]
  },
  {
   "cell_type": "markdown",
   "id": "cd871f53-b8b2-4da3-af15-c86bc6605741",
   "metadata": {},
   "source": [
    "## Load the data\n",
    "We load the `OHLC` data using the `load(...)` command exported from the [JLD2.jl](https://github.com/JuliaIO/JLD2.jl) package. The data is returned as a `Dict{String,Any}` where the `keys` are the [ticker symbols](https://en.wikipedia.org/wiki/Ticker_symbol#:~:text=A%20ticker%20symbol%20or%20stock,on%20a%20particular%20stock%20market.) and the `values` are the `OHLC` values corresponding to that `ticker`. The data dictionary is contained in the `dataset` variable:"
   ]
  },
  {
   "cell_type": "code",
   "execution_count": 3,
   "id": "58a50395-84ed-482a-8446-ed1187627792",
   "metadata": {
    "tags": []
   },
   "outputs": [
    {
     "data": {
      "text/plain": [
       "Dict{String, DataFrame} with 514 entries:\n",
       "  \"TPR\"  => \u001b[1m1464×8 DataFrame\u001b[0m\u001b[0m…\n",
       "  \"EMR\"  => \u001b[1m1464×8 DataFrame\u001b[0m\u001b[0m…\n",
       "  \"CTAS\" => \u001b[1m1464×8 DataFrame\u001b[0m\u001b[0m…\n",
       "  \"HSIC\" => \u001b[1m1464×8 DataFrame\u001b[0m\u001b[0m…\n",
       "  \"KIM\"  => \u001b[1m1464×8 DataFrame\u001b[0m\u001b[0m…\n",
       "  \"PLD\"  => \u001b[1m1464×8 DataFrame\u001b[0m\u001b[0m…\n",
       "  \"IEX\"  => \u001b[1m1464×8 DataFrame\u001b[0m\u001b[0m…\n",
       "  \"KSU\"  => \u001b[1m994×8 DataFrame\u001b[0m\u001b[0m…\n",
       "  \"BAC\"  => \u001b[1m1464×8 DataFrame\u001b[0m\u001b[0m…\n",
       "  \"CBOE\" => \u001b[1m1464×8 DataFrame\u001b[0m\u001b[0m…\n",
       "  \"EXR\"  => \u001b[1m1464×8 DataFrame\u001b[0m\u001b[0m…\n",
       "  \"NCLH\" => \u001b[1m1464×8 DataFrame\u001b[0m\u001b[0m…\n",
       "  \"CVS\"  => \u001b[1m1464×8 DataFrame\u001b[0m\u001b[0m…\n",
       "  \"DRI\"  => \u001b[1m1464×8 DataFrame\u001b[0m\u001b[0m…\n",
       "  \"DTE\"  => \u001b[1m1464×8 DataFrame\u001b[0m\u001b[0m…\n",
       "  \"ZION\" => \u001b[1m1464×8 DataFrame\u001b[0m\u001b[0m…\n",
       "  \"AVY\"  => \u001b[1m1464×8 DataFrame\u001b[0m\u001b[0m…\n",
       "  \"EW\"   => \u001b[1m1464×8 DataFrame\u001b[0m\u001b[0m…\n",
       "  \"EA\"   => \u001b[1m1464×8 DataFrame\u001b[0m\u001b[0m…\n",
       "  \"NWSA\" => \u001b[1m1464×8 DataFrame\u001b[0m\u001b[0m…\n",
       "  \"BBWI\" => \u001b[1m563×8 DataFrame\u001b[0m\u001b[0m…\n",
       "  \"CAG\"  => \u001b[1m1464×8 DataFrame\u001b[0m\u001b[0m…\n",
       "  \"GPC\"  => \u001b[1m1464×8 DataFrame\u001b[0m\u001b[0m…\n",
       "  \"FCX\"  => \u001b[1m1464×8 DataFrame\u001b[0m\u001b[0m…\n",
       "  \"GILD\" => \u001b[1m1464×8 DataFrame\u001b[0m\u001b[0m…\n",
       "  ⋮      => ⋮"
      ]
     },
     "execution_count": 3,
     "metadata": {},
     "output_type": "execute_result"
    }
   ],
   "source": [
    "dataset = load(joinpath(_PATH_TO_DATA, \"Daily-OHLC-1-3-2018-to-10-26-2023.jld2\"))|> x-> x[\"dataset\"]"
   ]
  },
  {
   "cell_type": "code",
   "execution_count": 4,
   "id": "0df0efd5-e952-4f40-8a98-e9de8f7471c3",
   "metadata": {
    "tags": []
   },
   "outputs": [
    {
     "data": {
      "text/html": [
       "<div><div style = \"float: left;\"><span>1464×8 DataFrame</span></div><div style = \"float: right;\"><span style = \"font-style: italic;\">1439 rows omitted</span></div><div style = \"clear: both;\"></div></div><div class = \"data-frame\" style = \"overflow-x: scroll;\"><table class = \"data-frame\" style = \"margin-bottom: 6px;\"><thead><tr class = \"header\"><th class = \"rowNumber\" style = \"font-weight: bold; text-align: right;\">Row</th><th style = \"text-align: left;\">volume</th><th style = \"text-align: left;\">volume_weighted_average_price</th><th style = \"text-align: left;\">open</th><th style = \"text-align: left;\">close</th><th style = \"text-align: left;\">high</th><th style = \"text-align: left;\">low</th><th style = \"text-align: left;\">timestamp</th><th style = \"text-align: left;\">number_of_transactions</th></tr><tr class = \"subheader headerLastRow\"><th class = \"rowNumber\" style = \"font-weight: bold; text-align: right;\"></th><th title = \"Float64\" style = \"text-align: left;\">Float64</th><th title = \"Float64\" style = \"text-align: left;\">Float64</th><th title = \"Float64\" style = \"text-align: left;\">Float64</th><th title = \"Float64\" style = \"text-align: left;\">Float64</th><th title = \"Float64\" style = \"text-align: left;\">Float64</th><th title = \"Float64\" style = \"text-align: left;\">Float64</th><th title = \"Dates.DateTime\" style = \"text-align: left;\">DateTime</th><th title = \"Int64\" style = \"text-align: left;\">Int64</th></tr></thead><tbody><tr><td class = \"rowNumber\" style = \"font-weight: bold; text-align: right;\">1</td><td style = \"text-align: right;\">1.54067e8</td><td style = \"text-align: right;\">11.7032</td><td style = \"text-align: right;\">11.61</td><td style = \"text-align: right;\">11.55</td><td style = \"text-align: right;\">12.14</td><td style = \"text-align: right;\">11.36</td><td style = \"text-align: left;\">2018-01-03T05:00:00</td><td style = \"text-align: right;\">328322</td></tr><tr><td class = \"rowNumber\" style = \"font-weight: bold; text-align: right;\">2</td><td style = \"text-align: right;\">1.09503e8</td><td style = \"text-align: right;\">12.1985</td><td style = \"text-align: right;\">12.095</td><td style = \"text-align: right;\">12.12</td><td style = \"text-align: right;\">12.43</td><td style = \"text-align: right;\">11.97</td><td style = \"text-align: left;\">2018-01-04T05:00:00</td><td style = \"text-align: right;\">249714</td></tr><tr><td class = \"rowNumber\" style = \"font-weight: bold; text-align: right;\">3</td><td style = \"text-align: right;\">6.38089e7</td><td style = \"text-align: right;\">11.8561</td><td style = \"text-align: right;\">12.19</td><td style = \"text-align: right;\">11.88</td><td style = \"text-align: right;\">12.22</td><td style = \"text-align: right;\">11.66</td><td style = \"text-align: left;\">2018-01-05T05:00:00</td><td style = \"text-align: right;\">143714</td></tr><tr><td class = \"rowNumber\" style = \"font-weight: bold; text-align: right;\">4</td><td style = \"text-align: right;\">6.3346e7</td><td style = \"text-align: right;\">12.1403</td><td style = \"text-align: right;\">12.01</td><td style = \"text-align: right;\">12.28</td><td style = \"text-align: right;\">12.3</td><td style = \"text-align: right;\">11.85</td><td style = \"text-align: left;\">2018-01-08T05:00:00</td><td style = \"text-align: right;\">125677</td></tr><tr><td class = \"rowNumber\" style = \"font-weight: bold; text-align: right;\">5</td><td style = \"text-align: right;\">6.25609e7</td><td style = \"text-align: right;\">11.8429</td><td style = \"text-align: right;\">12.0</td><td style = \"text-align: right;\">11.82</td><td style = \"text-align: right;\">12.02</td><td style = \"text-align: right;\">11.71</td><td style = \"text-align: left;\">2018-01-09T05:00:00</td><td style = \"text-align: right;\">144208</td></tr><tr><td class = \"rowNumber\" style = \"font-weight: bold; text-align: right;\">6</td><td style = \"text-align: right;\">5.25612e7</td><td style = \"text-align: right;\">11.9813</td><td style = \"text-align: right;\">11.63</td><td style = \"text-align: right;\">11.96</td><td style = \"text-align: right;\">12.15</td><td style = \"text-align: right;\">11.56</td><td style = \"text-align: left;\">2018-01-10T05:00:00</td><td style = \"text-align: right;\">116305</td></tr><tr><td class = \"rowNumber\" style = \"font-weight: bold; text-align: right;\">7</td><td style = \"text-align: right;\">3.83549e7</td><td style = \"text-align: right;\">12.0649</td><td style = \"text-align: right;\">12.07</td><td style = \"text-align: right;\">12.14</td><td style = \"text-align: right;\">12.19</td><td style = \"text-align: right;\">11.9001</td><td style = \"text-align: left;\">2018-01-11T05:00:00</td><td style = \"text-align: right;\">89200</td></tr><tr><td class = \"rowNumber\" style = \"font-weight: bold; text-align: right;\">8</td><td style = \"text-align: right;\">4.71493e7</td><td style = \"text-align: right;\">11.9224</td><td style = \"text-align: right;\">11.82</td><td style = \"text-align: right;\">12.02</td><td style = \"text-align: right;\">12.07</td><td style = \"text-align: right;\">11.8</td><td style = \"text-align: left;\">2018-01-12T05:00:00</td><td style = \"text-align: right;\">101994</td></tr><tr><td class = \"rowNumber\" style = \"font-weight: bold; text-align: right;\">9</td><td style = \"text-align: right;\">4.26866e7</td><td style = \"text-align: right;\">12.0231</td><td style = \"text-align: right;\">12.05</td><td style = \"text-align: right;\">11.91</td><td style = \"text-align: right;\">12.2</td><td style = \"text-align: right;\">11.8</td><td style = \"text-align: left;\">2018-01-16T05:00:00</td><td style = \"text-align: right;\">97121</td></tr><tr><td class = \"rowNumber\" style = \"font-weight: bold; text-align: right;\">10</td><td style = \"text-align: right;\">3.90208e7</td><td style = \"text-align: right;\">12.0992</td><td style = \"text-align: right;\">11.9</td><td style = \"text-align: right;\">12.18</td><td style = \"text-align: right;\">12.19</td><td style = \"text-align: right;\">11.82</td><td style = \"text-align: left;\">2018-01-17T05:00:00</td><td style = \"text-align: right;\">85775</td></tr><tr><td class = \"rowNumber\" style = \"font-weight: bold; text-align: right;\">11</td><td style = \"text-align: right;\">6.20862e7</td><td style = \"text-align: right;\">12.519</td><td style = \"text-align: right;\">12.18</td><td style = \"text-align: right;\">12.47</td><td style = \"text-align: right;\">12.68</td><td style = \"text-align: right;\">12.15</td><td style = \"text-align: left;\">2018-01-18T05:00:00</td><td style = \"text-align: right;\">131292</td></tr><tr><td class = \"rowNumber\" style = \"font-weight: bold; text-align: right;\">12</td><td style = \"text-align: right;\">4.68007e7</td><td style = \"text-align: right;\">12.6576</td><td style = \"text-align: right;\">12.56</td><td style = \"text-align: right;\">12.59</td><td style = \"text-align: right;\">12.88</td><td style = \"text-align: right;\">12.54</td><td style = \"text-align: left;\">2018-01-19T05:00:00</td><td style = \"text-align: right;\">101486</td></tr><tr><td class = \"rowNumber\" style = \"font-weight: bold; text-align: right;\">13</td><td style = \"text-align: right;\">3.47586e7</td><td style = \"text-align: right;\">12.6038</td><td style = \"text-align: right;\">12.61</td><td style = \"text-align: right;\">12.65</td><td style = \"text-align: right;\">12.74</td><td style = \"text-align: right;\">12.37</td><td style = \"text-align: left;\">2018-01-22T05:00:00</td><td style = \"text-align: right;\">87199</td></tr><tr><td style = \"text-align: right;\">&vellip;</td><td style = \"text-align: right;\">&vellip;</td><td style = \"text-align: right;\">&vellip;</td><td style = \"text-align: right;\">&vellip;</td><td style = \"text-align: right;\">&vellip;</td><td style = \"text-align: right;\">&vellip;</td><td style = \"text-align: right;\">&vellip;</td><td style = \"text-align: right;\">&vellip;</td><td style = \"text-align: right;\">&vellip;</td></tr><tr><td class = \"rowNumber\" style = \"font-weight: bold; text-align: right;\">1453</td><td style = \"text-align: right;\">5.10856e7</td><td style = \"text-align: right;\">108.299</td><td style = \"text-align: right;\">109.14</td><td style = \"text-align: right;\">108.31</td><td style = \"text-align: right;\">110.1</td><td style = \"text-align: right;\">106.93</td><td style = \"text-align: left;\">2023-10-11T04:00:00</td><td style = \"text-align: right;\">317488</td></tr><tr><td class = \"rowNumber\" style = \"font-weight: bold; text-align: right;\">1454</td><td style = \"text-align: right;\">6.09594e7</td><td style = \"text-align: right;\">109.511</td><td style = \"text-align: right;\">108.4</td><td style = \"text-align: right;\">108.79</td><td style = \"text-align: right;\">111.31</td><td style = \"text-align: right;\">107.51</td><td style = \"text-align: left;\">2023-10-12T04:00:00</td><td style = \"text-align: right;\">390652</td></tr><tr><td class = \"rowNumber\" style = \"font-weight: bold; text-align: right;\">1455</td><td style = \"text-align: right;\">5.29259e7</td><td style = \"text-align: right;\">106.1</td><td style = \"text-align: right;\">108.65</td><td style = \"text-align: right;\">105.09</td><td style = \"text-align: right;\">108.97</td><td style = \"text-align: right;\">104.75</td><td style = \"text-align: left;\">2023-10-13T04:00:00</td><td style = \"text-align: right;\">394982</td></tr><tr><td class = \"rowNumber\" style = \"font-weight: bold; text-align: right;\">1456</td><td style = \"text-align: right;\">4.24519e7</td><td style = \"text-align: right;\">106.593</td><td style = \"text-align: right;\">105.42</td><td style = \"text-align: right;\">106.46</td><td style = \"text-align: right;\">107.48</td><td style = \"text-align: right;\">105.03</td><td style = \"text-align: left;\">2023-10-16T04:00:00</td><td style = \"text-align: right;\">270433</td></tr><tr><td class = \"rowNumber\" style = \"font-weight: bold; text-align: right;\">1457</td><td style = \"text-align: right;\">4.95661e7</td><td style = \"text-align: right;\">104.606</td><td style = \"text-align: right;\">103.54</td><td style = \"text-align: right;\">105.14</td><td style = \"text-align: right;\">106.29</td><td style = \"text-align: right;\">101.66</td><td style = \"text-align: left;\">2023-10-17T04:00:00</td><td style = \"text-align: right;\">358141</td></tr><tr><td class = \"rowNumber\" style = \"font-weight: bold; text-align: right;\">1458</td><td style = \"text-align: right;\">5.03871e7</td><td style = \"text-align: right;\">102.989</td><td style = \"text-align: right;\">103.38</td><td style = \"text-align: right;\">102.17</td><td style = \"text-align: right;\">104.78</td><td style = \"text-align: right;\">101.74</td><td style = \"text-align: left;\">2023-10-18T04:00:00</td><td style = \"text-align: right;\">342146</td></tr><tr><td class = \"rowNumber\" style = \"font-weight: bold; text-align: right;\">1459</td><td style = \"text-align: right;\">5.2345e7</td><td style = \"text-align: right;\">103.593</td><td style = \"text-align: right;\">103.81</td><td style = \"text-align: right;\">102.4</td><td style = \"text-align: right;\">105.6</td><td style = \"text-align: right;\">101.84</td><td style = \"text-align: left;\">2023-10-19T04:00:00</td><td style = \"text-align: right;\">356587</td></tr><tr><td class = \"rowNumber\" style = \"font-weight: bold; text-align: right;\">1460</td><td style = \"text-align: right;\">6.13179e7</td><td style = \"text-align: right;\">102.375</td><td style = \"text-align: right;\">102.28</td><td style = \"text-align: right;\">101.81</td><td style = \"text-align: right;\">104.34</td><td style = \"text-align: right;\">101.44</td><td style = \"text-align: left;\">2023-10-20T04:00:00</td><td style = \"text-align: right;\">359695</td></tr><tr><td class = \"rowNumber\" style = \"font-weight: bold; text-align: right;\">1461</td><td style = \"text-align: right;\">5.08167e7</td><td style = \"text-align: right;\">101.036</td><td style = \"text-align: right;\">100.812</td><td style = \"text-align: right;\">100.01</td><td style = \"text-align: right;\">102.42</td><td style = \"text-align: right;\">99.315</td><td style = \"text-align: left;\">2023-10-23T04:00:00</td><td style = \"text-align: right;\">356332</td></tr><tr><td class = \"rowNumber\" style = \"font-weight: bold; text-align: right;\">1462</td><td style = \"text-align: right;\">5.19829e7</td><td style = \"text-align: right;\">100.575</td><td style = \"text-align: right;\">100.97</td><td style = \"text-align: right;\">101.67</td><td style = \"text-align: right;\">101.79</td><td style = \"text-align: right;\">99.38</td><td style = \"text-align: left;\">2023-10-24T04:00:00</td><td style = \"text-align: right;\">338215</td></tr><tr><td class = \"rowNumber\" style = \"font-weight: bold; text-align: right;\">1463</td><td style = \"text-align: right;\">5.34206e7</td><td style = \"text-align: right;\">97.4594</td><td style = \"text-align: right;\">100.42</td><td style = \"text-align: right;\">96.055</td><td style = \"text-align: right;\">101.03</td><td style = \"text-align: right;\">95.23</td><td style = \"text-align: left;\">2023-10-25T04:00:00</td><td style = \"text-align: right;\">436308</td></tr><tr><td class = \"rowNumber\" style = \"font-weight: bold; text-align: right;\">1464</td><td style = \"text-align: right;\">4.98785e7</td><td style = \"text-align: right;\">94.5949</td><td style = \"text-align: right;\">95.99</td><td style = \"text-align: right;\">93.67</td><td style = \"text-align: right;\">97.52</td><td style = \"text-align: right;\">93.115</td><td style = \"text-align: left;\">2023-10-26T04:00:00</td><td style = \"text-align: right;\">379353</td></tr></tbody></table></div>"
      ],
      "text/latex": [
       "\\begin{tabular}{r|cccccccc}\n",
       "\t& volume & volume\\_weighted\\_average\\_price & open & close & high & low & timestamp & \\\\\n",
       "\t\\hline\n",
       "\t& Float64 & Float64 & Float64 & Float64 & Float64 & Float64 & DateTime & \\\\\n",
       "\t\\hline\n",
       "\t1 & 1.54067e8 & 11.7032 & 11.61 & 11.55 & 12.14 & 11.36 & 2018-01-03T05:00:00 & $\\dots$ \\\\\n",
       "\t2 & 1.09503e8 & 12.1985 & 12.095 & 12.12 & 12.43 & 11.97 & 2018-01-04T05:00:00 & $\\dots$ \\\\\n",
       "\t3 & 6.38089e7 & 11.8561 & 12.19 & 11.88 & 12.22 & 11.66 & 2018-01-05T05:00:00 & $\\dots$ \\\\\n",
       "\t4 & 6.3346e7 & 12.1403 & 12.01 & 12.28 & 12.3 & 11.85 & 2018-01-08T05:00:00 & $\\dots$ \\\\\n",
       "\t5 & 6.25609e7 & 11.8429 & 12.0 & 11.82 & 12.02 & 11.71 & 2018-01-09T05:00:00 & $\\dots$ \\\\\n",
       "\t6 & 5.25612e7 & 11.9813 & 11.63 & 11.96 & 12.15 & 11.56 & 2018-01-10T05:00:00 & $\\dots$ \\\\\n",
       "\t7 & 3.83549e7 & 12.0649 & 12.07 & 12.14 & 12.19 & 11.9001 & 2018-01-11T05:00:00 & $\\dots$ \\\\\n",
       "\t8 & 4.71493e7 & 11.9224 & 11.82 & 12.02 & 12.07 & 11.8 & 2018-01-12T05:00:00 & $\\dots$ \\\\\n",
       "\t9 & 4.26866e7 & 12.0231 & 12.05 & 11.91 & 12.2 & 11.8 & 2018-01-16T05:00:00 & $\\dots$ \\\\\n",
       "\t10 & 3.90208e7 & 12.0992 & 11.9 & 12.18 & 12.19 & 11.82 & 2018-01-17T05:00:00 & $\\dots$ \\\\\n",
       "\t11 & 6.20862e7 & 12.519 & 12.18 & 12.47 & 12.68 & 12.15 & 2018-01-18T05:00:00 & $\\dots$ \\\\\n",
       "\t12 & 4.68007e7 & 12.6576 & 12.56 & 12.59 & 12.88 & 12.54 & 2018-01-19T05:00:00 & $\\dots$ \\\\\n",
       "\t13 & 3.47586e7 & 12.6038 & 12.61 & 12.65 & 12.74 & 12.37 & 2018-01-22T05:00:00 & $\\dots$ \\\\\n",
       "\t14 & 4.64172e7 & 12.9169 & 12.82 & 12.94 & 12.995 & 12.76 & 2018-01-23T05:00:00 & $\\dots$ \\\\\n",
       "\t15 & 4.19564e7 & 12.8159 & 13.02 & 12.71 & 13.05 & 12.6 & 2018-01-24T05:00:00 & $\\dots$ \\\\\n",
       "\t16 & 4.29666e7 & 12.6411 & 12.78 & 12.41 & 12.94 & 12.32 & 2018-01-25T05:00:00 & $\\dots$ \\\\\n",
       "\t17 & 4.4239e7 & 12.842 & 12.7 & 12.95 & 12.95 & 12.62 & 2018-01-26T05:00:00 & $\\dots$ \\\\\n",
       "\t18 & 6.66454e7 & 13.268 & 13.13 & 13.32 & 13.47 & 13.05 & 2018-01-29T05:00:00 & $\\dots$ \\\\\n",
       "\t19 & 9.12364e7 & 12.9253 & 13.12 & 12.87 & 13.27 & 12.69 & 2018-01-30T05:00:00 & $\\dots$ \\\\\n",
       "\t20 & 1.40978e8 & 13.5692 & 13.24 & 13.74 & 13.85 & 13.15 & 2018-01-31T05:00:00 & $\\dots$ \\\\\n",
       "\t21 & 6.75433e7 & 13.5189 & 13.62 & 13.25 & 13.84 & 13.21 & 2018-02-01T05:00:00 & $\\dots$ \\\\\n",
       "\t22 & 7.94326e7 & 12.6436 & 13.05 & 12.45 & 13.06 & 12.43 & 2018-02-02T05:00:00 & $\\dots$ \\\\\n",
       "\t23 & 1.16569e8 & 11.7389 & 12.05 & 11.57 & 12.18 & 10.93 & 2018-02-05T05:00:00 & $\\dots$ \\\\\n",
       "\t24 & 8.71232e7 & 11.4619 & 11.04 & 11.65 & 11.74 & 11.0 & 2018-02-06T05:00:00 & $\\dots$ \\\\\n",
       "\t25 & 5.57584e7 & 11.7046 & 11.7 & 11.6 & 11.9 & 11.53 & 2018-02-07T05:00:00 & $\\dots$ \\\\\n",
       "\t26 & 5.64718e7 & 11.4522 & 11.72 & 11.22 & 11.85 & 11.21 & 2018-02-08T05:00:00 & $\\dots$ \\\\\n",
       "\t27 & 8.54582e7 & 11.1107 & 11.54 & 11.31 & 11.57 & 10.63 & 2018-02-09T05:00:00 & $\\dots$ \\\\\n",
       "\t28 & 6.31609e7 & 11.6389 & 11.47 & 11.68 & 11.8 & 11.43 & 2018-02-12T05:00:00 & $\\dots$ \\\\\n",
       "\t29 & 3.36614e7 & 11.7225 & 11.6 & 11.78 & 11.82 & 11.53 & 2018-02-13T05:00:00 & $\\dots$ \\\\\n",
       "\t30 & 5.17568e7 & 12.0632 & 11.72 & 12.2 & 12.31 & 11.63 & 2018-02-14T05:00:00 & $\\dots$ \\\\\n",
       "\t$\\dots$ & $\\dots$ & $\\dots$ & $\\dots$ & $\\dots$ & $\\dots$ & $\\dots$ & $\\dots$ &  \\\\\n",
       "\\end{tabular}\n"
      ],
      "text/plain": [
       "\u001b[1m1464×8 DataFrame\u001b[0m\n",
       "\u001b[1m  Row \u001b[0m│\u001b[1m volume    \u001b[0m\u001b[1m volume_weighted_average_price \u001b[0m\u001b[1m open    \u001b[0m\u001b[1m close   \u001b[0m\u001b[1m high    \u001b[0m\u001b[1m l\u001b[0m ⋯\n",
       "      │\u001b[90m Float64   \u001b[0m\u001b[90m Float64                       \u001b[0m\u001b[90m Float64 \u001b[0m\u001b[90m Float64 \u001b[0m\u001b[90m Float64 \u001b[0m\u001b[90m F\u001b[0m ⋯\n",
       "──────┼─────────────────────────────────────────────────────────────────────────\n",
       "    1 │ 1.54067e8                        11.7032   11.61    11.55    12.14     ⋯\n",
       "    2 │ 1.09503e8                        12.1985   12.095   12.12    12.43\n",
       "    3 │ 6.38089e7                        11.8561   12.19    11.88    12.22\n",
       "    4 │ 6.3346e7                         12.1403   12.01    12.28    12.3\n",
       "    5 │ 6.25609e7                        11.8429   12.0     11.82    12.02     ⋯\n",
       "    6 │ 5.25612e7                        11.9813   11.63    11.96    12.15\n",
       "    7 │ 3.83549e7                        12.0649   12.07    12.14    12.19\n",
       "    8 │ 4.71493e7                        11.9224   11.82    12.02    12.07\n",
       "    9 │ 4.26866e7                        12.0231   12.05    11.91    12.2      ⋯\n",
       "   10 │ 3.90208e7                        12.0992   11.9     12.18    12.19\n",
       "   11 │ 6.20862e7                        12.519    12.18    12.47    12.68\n",
       "  ⋮   │     ⋮                    ⋮                   ⋮        ⋮        ⋮       ⋱\n",
       " 1455 │ 5.29259e7                       106.1     108.65   105.09   108.97   1\n",
       " 1456 │ 4.24519e7                       106.593   105.42   106.46   107.48   1 ⋯\n",
       " 1457 │ 4.95661e7                       104.606   103.54   105.14   106.29   1\n",
       " 1458 │ 5.03871e7                       102.989   103.38   102.17   104.78   1\n",
       " 1459 │ 5.2345e7                        103.593   103.81   102.4    105.6    1\n",
       " 1460 │ 6.13179e7                       102.375   102.28   101.81   104.34   1 ⋯\n",
       " 1461 │ 5.08167e7                       101.036   100.812  100.01   102.42\n",
       " 1462 │ 5.19829e7                       100.575   100.97   101.67   101.79\n",
       " 1463 │ 5.34206e7                        97.4594  100.42    96.055  101.03\n",
       " 1464 │ 4.98785e7                        94.5949   95.99    93.67    97.52     ⋯\n",
       "\u001b[36m                                                 3 columns and 1443 rows omitted\u001b[0m"
      ]
     },
     "execution_count": 4,
     "metadata": {},
     "output_type": "execute_result"
    }
   ],
   "source": [
    "dataset[\"AMD\"]"
   ]
  },
  {
   "cell_type": "markdown",
   "id": "3e2c4b64-da5a-4cf2-9538-535f7edbfdba",
   "metadata": {},
   "source": [
    "### Disclaimer and Risks\n",
    "\n",
    "__This content is offered solely for training and informational purposes__. No offer or solicitation to buy or sell securities or derivative products or any investment or trading advice or strategy is made, given, or endorsed by the teaching team.\n",
    "\n",
    "__Trading involves risk__. Carefully review your financial situation before investing in securities, futures contracts, options, or commodity interests. Past performance, whether actual or indicated by historical tests of strategies, is no guarantee of future performance or success. Trading is generally inappropriate for someone with limited resources, investment or trading experience, or a low-risk tolerance. Only risk capital that is not required for living expenses.\n",
    "\n",
    "__You are fully responsible for any investment or trading decisions you make__. Such decisions should be based solely on evaluating your financial circumstances, investment or trading objectives, risk tolerance, and liquidity needs."
   ]
  },
  {
   "cell_type": "code",
   "execution_count": null,
   "id": "4ec2a235-5e11-41e3-862f-5bc7f3125062",
   "metadata": {},
   "outputs": [],
   "source": []
  }
 ],
 "metadata": {
  "kernelspec": {
   "display_name": "Julia 1.9.3",
   "language": "julia",
   "name": "julia-1.9"
  },
  "language_info": {
   "file_extension": ".jl",
   "mimetype": "application/julia",
   "name": "julia",
   "version": "1.9.3"
  }
 },
 "nbformat": 4,
 "nbformat_minor": 5
}
